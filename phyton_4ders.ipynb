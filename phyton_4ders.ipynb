{
 "cells": [
  {
   "cell_type": "markdown",
   "metadata": {},
   "source": [
    "### print() function"
   ]
  },
  {
   "cell_type": "code",
   "execution_count": 5,
   "metadata": {},
   "outputs": [
    {
     "name": "stdout",
     "output_type": "stream",
     "text": [
      "Sevda Salih Yusuf\n"
     ]
    }
   ],
   "source": [
    "print (\"Sevda\", \"Salih\", \"Yusuf\")        # Default değer boşluktur."
   ]
  },
  {
   "cell_type": "code",
   "execution_count": 3,
   "metadata": {},
   "outputs": [
    {
     "name": "stdout",
     "output_type": "stream",
     "text": [
      "Sevda*Salih*Yusuf \n"
     ]
    }
   ],
   "source": [
    "print (\"Sevda\", \"Salih\", \"Yusuf\", sep = \"*\")   # sep değeri String içinde olmalıdır."
   ]
  },
  {
   "cell_type": "code",
   "execution_count": 4,
   "metadata": {},
   "outputs": [
    {
     "name": "stdout",
     "output_type": "stream",
     "text": [
      "Sevda?Salih?Yusuf\n"
     ]
    }
   ],
   "source": [
    "print (\"Sevda\", \"Salih\", \"Yusuf\", sep = \"?\")"
   ]
  },
  {
   "cell_type": "code",
   "execution_count": 7,
   "metadata": {},
   "outputs": [
    {
     "name": "stdout",
     "output_type": "stream",
     "text": [
      "Sevda Salih Yusuf\n"
     ]
    }
   ],
   "source": [
    "print (\"Sevda\", \"Salih\", \"Yusuf\", sep = \" \")"
   ]
  },
  {
   "cell_type": "code",
   "execution_count": 8,
   "metadata": {},
   "outputs": [
    {
     "name": "stdout",
     "output_type": "stream",
     "text": [
      "SevdaSalihYusuf\n"
     ]
    }
   ],
   "source": [
    "print (\"Sevda\", \"Salih\", \"Yusuf\", sep = \"\")"
   ]
  },
  {
   "cell_type": "code",
   "execution_count": 10,
   "metadata": {},
   "outputs": [
    {
     "ename": "SyntaxError",
     "evalue": "invalid syntax (4049917948.py, line 1)",
     "output_type": "error",
     "traceback": [
      "\u001b[1;36m  Cell \u001b[1;32mIn[10], line 1\u001b[1;36m\u001b[0m\n\u001b[1;33m    print (\"Sevda\", \"Salih\", \"Yusuf\", sep = ,)           # sep değeri String içinde olmalıdır.\u001b[0m\n\u001b[1;37m                                            ^\u001b[0m\n\u001b[1;31mSyntaxError\u001b[0m\u001b[1;31m:\u001b[0m invalid syntax\n"
     ]
    }
   ],
   "source": [
    "print (\"Sevda\", \"Salih\", \"Yusuf\", sep = ,)           # sep değeri String içinde olmalıdır."
   ]
  },
  {
   "cell_type": "code",
   "execution_count": 12,
   "metadata": {},
   "outputs": [
    {
     "name": "stdout",
     "output_type": "stream",
     "text": [
      "\n"
     ]
    }
   ],
   "source": [
    "print()"
   ]
  },
  {
   "cell_type": "code",
   "execution_count": 13,
   "metadata": {},
   "outputs": [
    {
     "name": "stdout",
     "output_type": "stream",
     "text": [
      "Help on built-in function print in module builtins:\n",
      "\n",
      "print(...)\n",
      "    print(value, ..., sep=' ', end='\\n', file=sys.stdout, flush=False)\n",
      "    \n",
      "    Prints the values to a stream, or to sys.stdout by default.\n",
      "    Optional keyword arguments:\n",
      "    file:  a file-like object (stream); defaults to the current sys.stdout.\n",
      "    sep:   string inserted between values, default a space.\n",
      "    end:   string appended after the last value, default a newline.\n",
      "    flush: whether to forcibly flush the stream.\n",
      "\n"
     ]
    }
   ],
   "source": [
    "help(print)"
   ]
  },
  {
   "cell_type": "code",
   "execution_count": 14,
   "metadata": {},
   "outputs": [
    {
     "name": "stdout",
     "output_type": "stream",
     "text": [
      "Sevda\n",
      "Salih\n"
     ]
    }
   ],
   "source": [
    "print(\"Sevda\")             # Default değeri end yeni satıra geçirir.\n",
    "print(\"Salih\")"
   ]
  },
  {
   "cell_type": "code",
   "execution_count": 15,
   "metadata": {},
   "outputs": [
    {
     "name": "stdout",
     "output_type": "stream",
     "text": [
      "Sevda*Salih\n"
     ]
    }
   ],
   "source": [
    "print(\"Sevda\", end = \"*\")    \n",
    "print(\"Salih\")"
   ]
  },
  {
   "cell_type": "code",
   "execution_count": 16,
   "metadata": {},
   "outputs": [
    {
     "name": "stdout",
     "output_type": "stream",
     "text": [
      "Sevda*Salih?Yusuf\n"
     ]
    }
   ],
   "source": [
    "print(\"Sevda\", end = \"*\")    \n",
    "print(\"Salih\", end = \"?\")\n",
    "print(\"Yusuf\")"
   ]
  },
  {
   "cell_type": "code",
   "execution_count": 17,
   "metadata": {},
   "outputs": [
    {
     "name": "stdout",
     "output_type": "stream",
     "text": [
      "Sevda\n",
      "Salih\n",
      "Yusuf\n"
     ]
    }
   ],
   "source": [
    "print (\"Sevda\", \"Salih\", \"Yusuf\", sep = \"\\n\")      # \\n = newline yeni satır"
   ]
  },
  {
   "cell_type": "code",
   "execution_count": 1,
   "metadata": {},
   "outputs": [
    {
     "name": "stdout",
     "output_type": "stream",
     "text": [
      "hello word--35*40*75\n",
      "son satır\n"
     ]
    }
   ],
   "source": [
    "print(\"hello word\", end = \"--\")\n",
    "print(\"35\", 40, \"75\", sep = \"*\")\n",
    "print(\"son satır\")"
   ]
  },
  {
   "cell_type": "markdown",
   "metadata": {},
   "source": [
    "## input()"
   ]
  },
  {
   "cell_type": "code",
   "execution_count": 3,
   "metadata": {},
   "outputs": [
    {
     "data": {
      "text/plain": [
       "'325'"
      ]
     },
     "execution_count": 3,
     "metadata": {},
     "output_type": "execute_result"
    }
   ],
   "source": [
    "input()     # inputla aldığımız veri herzaman Stringdir."
   ]
  },
  {
   "cell_type": "code",
   "execution_count": 9,
   "metadata": {},
   "outputs": [
    {
     "data": {
      "text/plain": [
       "'33'"
      ]
     },
     "execution_count": 9,
     "metadata": {},
     "output_type": "execute_result"
    }
   ],
   "source": [
    "input(\"Lütfen yaşınızı giriniz :\")"
   ]
  },
  {
   "cell_type": "code",
   "execution_count": 10,
   "metadata": {},
   "outputs": [],
   "source": [
    "yaş = input(\"Lütfen yaşınızı giriniz :\")"
   ]
  },
  {
   "cell_type": "code",
   "execution_count": 11,
   "metadata": {},
   "outputs": [
    {
     "name": "stdout",
     "output_type": "stream",
     "text": [
      "33\n"
     ]
    }
   ],
   "source": [
    "print(yaş)"
   ]
  },
  {
   "cell_type": "code",
   "execution_count": 12,
   "metadata": {},
   "outputs": [
    {
     "data": {
      "text/plain": [
       "str"
      ]
     },
     "execution_count": 12,
     "metadata": {},
     "output_type": "execute_result"
    }
   ],
   "source": [
    "type(yaş)"
   ]
  },
  {
   "cell_type": "code",
   "execution_count": 13,
   "metadata": {},
   "outputs": [],
   "source": [
    "yaş = int(yaş)"
   ]
  },
  {
   "cell_type": "code",
   "execution_count": 14,
   "metadata": {},
   "outputs": [
    {
     "name": "stdout",
     "output_type": "stream",
     "text": [
      "33\n"
     ]
    }
   ],
   "source": [
    "print(yaş)"
   ]
  },
  {
   "cell_type": "code",
   "execution_count": 4,
   "metadata": {},
   "outputs": [],
   "source": [
    "name = input(\"Lütfen adınızı giriniz. \")"
   ]
  },
  {
   "cell_type": "code",
   "execution_count": 6,
   "metadata": {},
   "outputs": [
    {
     "name": "stdout",
     "output_type": "stream",
     "text": [
      "Sevda\n"
     ]
    }
   ],
   "source": [
    "print(name)"
   ]
  },
  {
   "cell_type": "code",
   "execution_count": 1,
   "metadata": {},
   "outputs": [
    {
     "name": "stdout",
     "output_type": "stream",
     "text": [
      "33\n",
      "<class 'int'>\n"
     ]
    }
   ],
   "source": [
    "age_1 = input(\"Lütfen yaşınızı giriniz\")\n",
    "age_1 = int (age_1)\n",
    "print(age_1)\n",
    "print(type(age_1))"
   ]
  },
  {
   "cell_type": "code",
   "execution_count": 2,
   "metadata": {},
   "outputs": [
    {
     "ename": "ValueError",
     "evalue": "invalid literal for int() with base 10: 'otuzüç'",
     "output_type": "error",
     "traceback": [
      "\u001b[1;31m---------------------------------------------------------------------------\u001b[0m",
      "\u001b[1;31mValueError\u001b[0m                                Traceback (most recent call last)",
      "\u001b[1;32mc:\\Users\\Win10\\Desktop\\PHYTON\\phyton_4ders.ipynb Cell 26\u001b[0m line \u001b[0;36m2\n\u001b[0;32m      <a href='vscode-notebook-cell:/c%3A/Users/Win10/Desktop/PHYTON/phyton_4ders.ipynb#X35sZmlsZQ%3D%3D?line=0'>1</a>\u001b[0m age_2 \u001b[39m=\u001b[39m \u001b[39minput\u001b[39m(\u001b[39m\"\u001b[39m\u001b[39mLütfen yaşınızı giriniz\u001b[39m\u001b[39m\"\u001b[39m)\n\u001b[1;32m----> <a href='vscode-notebook-cell:/c%3A/Users/Win10/Desktop/PHYTON/phyton_4ders.ipynb#X35sZmlsZQ%3D%3D?line=1'>2</a>\u001b[0m age_2 \u001b[39m=\u001b[39m \u001b[39mint\u001b[39;49m (age_2)\n\u001b[0;32m      <a href='vscode-notebook-cell:/c%3A/Users/Win10/Desktop/PHYTON/phyton_4ders.ipynb#X35sZmlsZQ%3D%3D?line=2'>3</a>\u001b[0m \u001b[39mprint\u001b[39m(age_2)\n\u001b[0;32m      <a href='vscode-notebook-cell:/c%3A/Users/Win10/Desktop/PHYTON/phyton_4ders.ipynb#X35sZmlsZQ%3D%3D?line=3'>4</a>\u001b[0m \u001b[39mprint\u001b[39m(\u001b[39mtype\u001b[39m(age_2))\n",
      "\u001b[1;31mValueError\u001b[0m: invalid literal for int() with base 10: 'otuzüç'"
     ]
    }
   ],
   "source": [
    "age_2 = input(\"Lütfen yaşınızı giriniz\")\n",
    "age_2 = int (age_2)\n",
    "print(age_2)\n",
    "print(type(age_2))"
   ]
  },
  {
   "cell_type": "markdown",
   "metadata": {},
   "source": [
    "Kullanıcıdan kilo ve boy bilgisini alan ve girilen bilgilere göre vücut kitle indeksini (vki) hesaplayan kodu yazınız."
   ]
  },
  {
   "cell_type": "code",
   "execution_count": 10,
   "metadata": {},
   "outputs": [
    {
     "ename": "TypeError",
     "evalue": "unsupported operand type(s) for ** or pow(): 'str' and 'int'",
     "output_type": "error",
     "traceback": [
      "\u001b[1;31m---------------------------------------------------------------------------\u001b[0m",
      "\u001b[1;31mTypeError\u001b[0m                                 Traceback (most recent call last)",
      "\u001b[1;32mc:\\Users\\Win10\\Desktop\\PHYTON\\phyton_4ders.ipynb Cell 28\u001b[0m line \u001b[0;36m4\n\u001b[0;32m      <a href='vscode-notebook-cell:/c%3A/Users/Win10/Desktop/PHYTON/phyton_4ders.ipynb#X40sZmlsZQ%3D%3D?line=0'>1</a>\u001b[0m kilo \u001b[39m=\u001b[39m \u001b[39minput\u001b[39m(\u001b[39m\"\u001b[39m\u001b[39mLütfen kilonuzu kg cinsinden giriniz. Örn : 86.5\u001b[39m\u001b[39m\"\u001b[39m)\n\u001b[0;32m      <a href='vscode-notebook-cell:/c%3A/Users/Win10/Desktop/PHYTON/phyton_4ders.ipynb#X40sZmlsZQ%3D%3D?line=1'>2</a>\u001b[0m boy \u001b[39m=\u001b[39m \u001b[39minput\u001b[39m(\u001b[39m\"\u001b[39m\u001b[39mLütfen boyunuzu metre cinsinden giriniz. Örn: 1.75\u001b[39m\u001b[39m\"\u001b[39m)\n\u001b[1;32m----> <a href='vscode-notebook-cell:/c%3A/Users/Win10/Desktop/PHYTON/phyton_4ders.ipynb#X40sZmlsZQ%3D%3D?line=3'>4</a>\u001b[0m vki \u001b[39m=\u001b[39m kilo \u001b[39m/\u001b[39m (boy \u001b[39m*\u001b[39;49m\u001b[39m*\u001b[39;49m \u001b[39m2\u001b[39;49m)\n\u001b[0;32m      <a href='vscode-notebook-cell:/c%3A/Users/Win10/Desktop/PHYTON/phyton_4ders.ipynb#X40sZmlsZQ%3D%3D?line=4'>5</a>\u001b[0m \u001b[39mprint\u001b[39m(vki)\n",
      "\u001b[1;31mTypeError\u001b[0m: unsupported operand type(s) for ** or pow(): 'str' and 'int'"
     ]
    }
   ],
   "source": [
    "kilo = input(\"Lütfen kilonuzu kg cinsinden giriniz. Örn : 86.5\")\n",
    "boy = input(\"Lütfen boyunuzu metre cinsinden giriniz. Örn: 1.75\")\n",
    "\n",
    "vki = kilo / (boy ** 2)\n",
    "print(vki)"
   ]
  },
  {
   "cell_type": "code",
   "execution_count": 15,
   "metadata": {},
   "outputs": [
    {
     "name": "stdout",
     "output_type": "stream",
     "text": [
      "Vücut kitle indeksiniz : 28.244897959183675\n"
     ]
    }
   ],
   "source": [
    "kilo = input(\"Lütfen kilonuzu kg cinsinden giriniz. Örn : 86.5\")\n",
    "boy = input(\"Lütfen boyunuzu metre cinsinden giriniz. Örn: 1.75\")\n",
    "\n",
    "kilo = float(kilo)\n",
    "boy = float(boy)\n",
    "\n",
    "vki = kilo / (boy ** 2)\n",
    "print(\"Vücut kitle indeksiniz :\" , vki)"
   ]
  },
  {
   "cell_type": "code",
   "execution_count": 16,
   "metadata": {},
   "outputs": [
    {
     "name": "stdout",
     "output_type": "stream",
     "text": [
      "Vücut kitle indeksiniz : 28.244897959183675\n"
     ]
    }
   ],
   "source": [
    "kilo = float(input(\"Lütfen kilonuzu kg cinsinden giriniz. Örn : 86.5\"))\n",
    "boy = float(input(\"Lütfen boyunuzu metre cinsinden giriniz. Örn: 1.75\"))\n",
    "\n",
    "\n",
    "vki = kilo / (boy ** 2)\n",
    "print(\"Vücut kitle indeksiniz :\" , vki)"
   ]
  },
  {
   "cell_type": "markdown",
   "metadata": {},
   "source": [
    "## Escape Sequences\n"
   ]
  },
  {
   "cell_type": "code",
   "execution_count": 4,
   "metadata": {},
   "outputs": [
    {
     "ename": "SyntaxError",
     "evalue": "unterminated string literal (detected at line 1) (305069894.py, line 1)",
     "output_type": "error",
     "traceback": [
      "\u001b[1;36m  Cell \u001b[1;32mIn[4], line 1\u001b[1;36m\u001b[0m\n\u001b[1;33m    print('I'am a phyton teacher')\u001b[0m\n\u001b[1;37m                                ^\u001b[0m\n\u001b[1;31mSyntaxError\u001b[0m\u001b[1;31m:\u001b[0m unterminated string literal (detected at line 1)\n"
     ]
    }
   ],
   "source": [
    "print('I'am a phyton teacher')"
   ]
  },
  {
   "cell_type": "code",
   "execution_count": 5,
   "metadata": {},
   "outputs": [
    {
     "name": "stdout",
     "output_type": "stream",
     "text": [
      "I'am a phyton teacher\n"
     ]
    }
   ],
   "source": [
    "print('I\\'am a phyton teacher')"
   ]
  },
  {
   "cell_type": "code",
   "execution_count": 22,
   "metadata": {},
   "outputs": [
    {
     "name": "stdout",
     "output_type": "stream",
     "text": [
      "Sevda Salih Yusuf\n"
     ]
    }
   ],
   "source": [
    "print(\"Sevda\", \"Salih\", \"Yusuf\")"
   ]
  },
  {
   "cell_type": "code",
   "execution_count": 23,
   "metadata": {},
   "outputs": [
    {
     "name": "stdout",
     "output_type": "stream",
     "text": [
      "Sevda\n",
      "Salih\n",
      "Yusuf\n"
     ]
    }
   ],
   "source": [
    "print(\"Sevda\", \"Salih\", \"Yusuf\", sep = \"\\n\")"
   ]
  },
  {
   "cell_type": "code",
   "execution_count": 2,
   "metadata": {},
   "outputs": [
    {
     "name": "stdout",
     "output_type": "stream",
     "text": [
      "Bu ders çok uzadı sanki!\n",
      "Bir an önce bitse\n"
     ]
    }
   ],
   "source": [
    "print(\"Bu ders çok uzadı sanki!\\nBir an önce bitse\")   #n new line"
   ]
  },
  {
   "cell_type": "code",
   "execution_count": 24,
   "metadata": {},
   "outputs": [
    {
     "name": "stdout",
     "output_type": "stream",
     "text": [
      "Sevda\tSalih\tYusuf\n"
     ]
    }
   ],
   "source": [
    "print(\"Sevda\", \"Salih\", \"Yusuf\", sep = \"\\t\")    #t tab"
   ]
  },
  {
   "cell_type": "code",
   "execution_count": 3,
   "metadata": {},
   "outputs": [
    {
     "name": "stdout",
     "output_type": "stream",
     "text": [
      "Bu ders çok uzadı sankiBir an önce bitse\n"
     ]
    }
   ],
   "source": [
    "print(\"Bu ders çok uzadı sanki!\\bBir an önce bitse\")  #b back space"
   ]
  },
  {
   "cell_type": "code",
   "execution_count": 18,
   "metadata": {},
   "outputs": [],
   "source": [
    "name_1 = \"Sevda N\"\n",
    "name_2 = \"Salih C\"\n",
    "name_3 = \"Yusuf A\""
   ]
  },
  {
   "cell_type": "code",
   "execution_count": 19,
   "metadata": {},
   "outputs": [
    {
     "name": "stdout",
     "output_type": "stream",
     "text": [
      "Sevda "
     ]
    }
   ],
   "source": [
    "name_1 = print (name_1 , end = \"\\b\")"
   ]
  },
  {
   "cell_type": "code",
   "execution_count": 20,
   "metadata": {},
   "outputs": [
    {
     "name": "stdout",
     "output_type": "stream",
     "text": [
      "Bu ders çok uzadı sanki!\\nBir an önce bitse\n"
     ]
    }
   ],
   "source": [
    "print(r\"Bu ders çok uzadı sanki!\\nBir an önce bitse\")  #r çift tırnağın başına konur. Escape Sequences'leri devre dışı bırakır."
   ]
  },
  {
   "cell_type": "markdown",
   "metadata": {},
   "source": [
    "Kullanıcıdan Celcius bilgisini alın ve fahrenheit a cevirin."
   ]
  },
  {
   "cell_type": "code",
   "execution_count": 5,
   "metadata": {},
   "outputs": [
    {
     "name": "stdout",
     "output_type": "stream",
     "text": [
      "Hava sıcaklığı: 30.0 Derece : 86.0\n"
     ]
    }
   ],
   "source": [
    "celc = float(input (\"Lütfen hava sıcaklığını celcius cinsinden giriniz. Örn : 25.5\"))\n",
    "\n",
    "fahr = celc * 1.8 + 32\n",
    "\n",
    "print (\"Hava sıcaklığı:\", celc,   \"Derece :\", fahr)"
   ]
  }
 ],
 "metadata": {
  "kernelspec": {
   "display_name": "base",
   "language": "python",
   "name": "python3"
  },
  "language_info": {
   "codemirror_mode": {
    "name": "ipython",
    "version": 3
   },
   "file_extension": ".py",
   "mimetype": "text/x-python",
   "name": "python",
   "nbconvert_exporter": "python",
   "pygments_lexer": "ipython3",
   "version": "3.10.9"
  },
  "orig_nbformat": 4
 },
 "nbformat": 4,
 "nbformat_minor": 2
}
